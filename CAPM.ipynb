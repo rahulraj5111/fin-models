{
 "cells": [
  {
   "cell_type": "code",
   "execution_count": 1,
   "id": "84c85d75",
   "metadata": {},
   "outputs": [],
   "source": [
    "import pandas as pd\n",
    "import numpy as np\n",
    "import pandas_datareader as web \n",
    "from scipy import stats\n",
    "from tabulate import tabulate "
   ]
  },
  {
   "cell_type": "code",
   "execution_count": 2,
   "id": "1a1ddabc",
   "metadata": {},
   "outputs": [],
   "source": [
    "#CAPM = Risk Free Rate + Beta*(Market return-Rsik Free Rate)\n"
   ]
  },
  {
   "cell_type": "code",
   "execution_count": 6,
   "id": "7f841bf3",
   "metadata": {},
   "outputs": [],
   "source": [
    "def capm(stocks, start_date, end_date, rf):\n",
    "    data = pd.DataFrame()\n",
    "    data = web.DataReader(stocks, data_source='yahoo', start=start_date, end= end_date)['Adj Close']\n",
    "    data = data.pct_change().dropna()\n",
    "    for i in data.columns:\n",
    "        bench_ret = np.prod(data['^GSPC']+1)-1\n",
    "        beta_i = stats.linregress(data[i],data['^GSPC'])[0]\n",
    "        CAPM_i = rf/100 + beta_i * (bench_ret - rf/100)\n",
    "        print(i,'expected return is {0: .2f}'.format(CAPM_i*100))\n",
    "        \n",
    "    "
   ]
  },
  {
   "cell_type": "markdown",
   "id": "e274be9e",
   "metadata": {},
   "source": []
  },
  {
   "cell_type": "code",
   "execution_count": 7,
   "id": "60440573",
   "metadata": {},
   "outputs": [
    {
     "name": "stdout",
     "output_type": "stream",
     "text": [
      "AAPL expected return is  10.91\n",
      "^GSPC expected return is  26.89\n"
     ]
    }
   ],
   "source": [
    "capm(['AAPL','^GSPC'],'1-1-2021','12-31-2021',2)"
   ]
  }
 ],
 "metadata": {
  "kernelspec": {
   "display_name": "Python 3",
   "language": "python",
   "name": "python3"
  },
  "language_info": {
   "codemirror_mode": {
    "name": "ipython",
    "version": 3
   },
   "file_extension": ".py",
   "mimetype": "text/x-python",
   "name": "python",
   "nbconvert_exporter": "python",
   "pygments_lexer": "ipython3",
   "version": "3.8.8"
  }
 },
 "nbformat": 4,
 "nbformat_minor": 5
}
